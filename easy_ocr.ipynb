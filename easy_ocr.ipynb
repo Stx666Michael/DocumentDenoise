{
 "cells": [
  {
   "cell_type": "code",
   "execution_count": 1,
   "metadata": {},
   "outputs": [],
   "source": [
    "import os\n",
    "import easyocr\n",
    "from PIL import Image, ImageDraw, ImageFont\n",
    "from IPython.display import display"
   ]
  },
  {
   "cell_type": "code",
   "execution_count": 2,
   "metadata": {},
   "outputs": [],
   "source": [
    "reader = easyocr.Reader(['ch_sim','en']) # this needs to run only once to load the model into memory"
   ]
  },
  {
   "cell_type": "code",
   "execution_count": 3,
   "metadata": {},
   "outputs": [
    {
     "name": "stdout",
     "output_type": "stream",
     "text": [
      "['IMG_0834.JPG', 'IMG_0835.JPG', 'IMG_0836.JPG', 'IMG_0837.JPG', 'IMG_0838.JPG', 'IMG_0839.JPG', 'IMG_0840.JPG', 'IMG_0841.JPG', 'IMG_0842.JPG', 'IMG_0843.JPG', 'IMG_0844.JPG', 'IMG_0845.JPG', 'IMG_0846.JPG', 'IMG_0847.JPG', 'IMG_0848.JPG', 'IMG_0849.JPG', 'IMG_0850.JPG', 'IMG_0851.JPG', 'IMG_0852.JPG', 'IMG_0853.JPG', 'IMG_0854.JPG', 'IMG_0855.JPG', 'IMG_0856.JPG', 'IMG_0857.JPG', 'IMG_0858.JPG', 'IMG_0859.JPG', 'IMG_0860.JPG', 'IMG_0861.JPG', 'IMG_0862.JPG', 'IMG_0863.JPG', 'IMG_0864.JPG', 'IMG_0865.JPG', 'IMG_0866.JPG', 'IMG_0867.JPG', 'IMG_0868.JPG']\n"
     ]
    }
   ],
   "source": [
    "input_path = 'data/to_process/'\n",
    "output_path = 'data/easy_ocr_originals/'\n",
    "input_images_name = sorted(os.listdir(input_path))\n",
    "print(input_images_name)"
   ]
  },
  {
   "cell_type": "code",
   "execution_count": 4,
   "metadata": {},
   "outputs": [],
   "source": [
    "# Draw bounding boxes and text\n",
    "def draw_image(path, bounds, color='red', width=2):\n",
    "    myFont = ImageFont.truetype('data/font/msyh.ttc', 32)\n",
    "    image = Image.open(path)\n",
    "    #image = image.rotate(270, expand=True) # uncomment this line if necessary\n",
    "    draw = ImageDraw.Draw(image)\n",
    "    for bound in bounds:\n",
    "        p0, p1, p2, p3 = bound[0]\n",
    "        draw.line([*p0, *p1, *p2, *p3, *p0], fill=color, width=width)\n",
    "        draw.text(p3, bound[1], font=myFont, fill=(255, 0, 0))\n",
    "    return image\n",
    "    "
   ]
  },
  {
   "cell_type": "code",
   "execution_count": 9,
   "metadata": {},
   "outputs": [
    {
     "name": "stdout",
     "output_type": "stream",
     "text": [
      "data/to_process/IMG_0865.JPG\n"
     ]
    }
   ],
   "source": [
    "for img_name in input_images_name[31:32]:\n",
    "    path = input_path + img_name\n",
    "    result = reader.readtext(path)\n",
    "    draw_image(path, result).save(output_path + img_name)\n",
    "    print(path)"
   ]
  },
  {
   "cell_type": "code",
   "execution_count": null,
   "metadata": {},
   "outputs": [],
   "source": []
  }
 ],
 "metadata": {
  "kernelspec": {
   "display_name": "Python 3.8.3rc1 64-bit",
   "language": "python",
   "name": "python3"
  },
  "language_info": {
   "codemirror_mode": {
    "name": "ipython",
    "version": 3
   },
   "file_extension": ".py",
   "mimetype": "text/x-python",
   "name": "python",
   "nbconvert_exporter": "python",
   "pygments_lexer": "ipython3",
   "version": "3.8.3rc1"
  },
  "orig_nbformat": 4,
  "vscode": {
   "interpreter": {
    "hash": "a75eb300e5d48d67d456b14970c8e9ad3655397f515a418f26d4cf6f1d1265ab"
   }
  }
 },
 "nbformat": 4,
 "nbformat_minor": 2
}
