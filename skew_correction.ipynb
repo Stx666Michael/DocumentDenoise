{
 "cells": [
  {
   "cell_type": "code",
   "execution_count": null,
   "metadata": {},
   "outputs": [],
   "source": [
    "import numpy as np\n",
    "from skimage.transform import hough_line, hough_line_peaks\n",
    "from skimage.transform import rotate\n",
    "from skimage.feature import canny\n",
    "from skimage.io import imread\n",
    "from skimage.color import rgb2gray\n",
    "import matplotlib.pyplot as plt\n",
    "from scipy.stats import mode"
   ]
  },
  {
   "cell_type": "code",
   "execution_count": null,
   "metadata": {},
   "outputs": [],
   "source": [
    "sigma = 1\n",
    "\n",
    "def detect_lines(image, dir):\n",
    "    edges = canny(image, sigma=sigma)\n",
    "    # Classic straight-line Hough transform\n",
    "    if dir == \"hor\":\n",
    "        tested_angles = np.deg2rad(np.arange(75, 105))\n",
    "    else:\n",
    "        tested_angles = np.deg2rad(np.arange(165, 195))\n",
    "    h, theta, d = hough_line(edges, theta=tested_angles)\n",
    "\n",
    "    # Generating figure 1\n",
    "    fig, axes = plt.subplots(1, 2, figsize=(15, 16))\n",
    "    ax = axes.ravel()\n",
    "\n",
    "    ax[0].imshow(image, cmap=\"gray\")\n",
    "    ax[0].set_title('Input image')\n",
    "    ax[0].set_axis_off()\n",
    "\n",
    "    ax[1].imshow(edges, cmap=\"gray\")\n",
    "    origin = np.array((0, image.shape[1]))\n",
    "\n",
    "    for _, angle, dist in zip(*hough_line_peaks(h, theta, d)):\n",
    "        y0, y1 = (dist - origin * np.cos(angle)) / np.sin(angle)\n",
    "        ax[1].plot(origin, (y0, y1), '-r')\n",
    "        \n",
    "    ax[1].set_xlim(origin)\n",
    "    ax[1].set_ylim((edges.shape[0], 0))\n",
    "    ax[1].set_axis_off()\n",
    "    ax[1].set_title('Detected lines')\n",
    "\n",
    "def skew_angle_hough_transform(image):\n",
    "    # convert to edges\n",
    "    edges = canny(image, sigma=sigma)\n",
    "    # Classic straight-line Hough transform.\n",
    "    tested_angles = np.deg2rad(np.arange(75, 105))\n",
    "    h, theta, d = hough_line(edges, theta=tested_angles)\n",
    "    \n",
    "    # find line peaks and angles\n",
    "    accum, angles, dists = hough_line_peaks(h, theta, d)\n",
    "    \n",
    "    # round the angles to 2 decimal places and find the most common angle.\n",
    "    most_common_angle = mode(np.around(angles, decimals=2))[0]\n",
    "    \n",
    "    # convert the angle to degree for rotation.\n",
    "    skew_angle = np.rad2deg(most_common_angle - np.pi/2)\n",
    "    print('Angle to correct:', skew_angle)\n",
    "    return skew_angle"
   ]
  },
  {
   "cell_type": "code",
   "execution_count": null,
   "metadata": {},
   "outputs": [],
   "source": [
    "image_path = \"data/to_process/IMG_0838.JPG\"\n",
    "image = rgb2gray(imread(image_path))"
   ]
  },
  {
   "cell_type": "code",
   "execution_count": null,
   "metadata": {},
   "outputs": [],
   "source": [
    "detect_lines(image, 'hor')\n",
    "detect_lines(image, 'ver')"
   ]
  },
  {
   "cell_type": "code",
   "execution_count": null,
   "metadata": {},
   "outputs": [],
   "source": [
    "fig, ax = plt.subplots(ncols=2, figsize=(20,20))\n",
    "ax[0].imshow(image, cmap=\"gray\")\n",
    "ax[1].imshow(rotate(image, skew_angle_hough_transform(image), cval=1), cmap=\"gray\")\n",
    "ax[0].set_title('Input image')\n",
    "ax[1].set_title('Deskewed image')\n",
    "plt.show()"
   ]
  }
 ],
 "metadata": {
  "kernelspec": {
   "display_name": "Python 3.9.9 64-bit",
   "language": "python",
   "name": "python3"
  },
  "language_info": {
   "codemirror_mode": {
    "name": "ipython",
    "version": 3
   },
   "file_extension": ".py",
   "mimetype": "text/x-python",
   "name": "python",
   "nbconvert_exporter": "python",
   "pygments_lexer": "ipython3",
   "version": "3.9.9"
  },
  "orig_nbformat": 4,
  "vscode": {
   "interpreter": {
    "hash": "b0fa6594d8f4cbf19f97940f81e996739fb7646882a419484c72d19e05852a7e"
   }
  }
 },
 "nbformat": 4,
 "nbformat_minor": 2
}
