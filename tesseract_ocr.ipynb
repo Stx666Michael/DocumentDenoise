{
 "cells": [
  {
   "cell_type": "code",
   "execution_count": null,
   "metadata": {},
   "outputs": [],
   "source": [
    "import os\n",
    "import tesserocr"
   ]
  },
  {
   "cell_type": "code",
   "execution_count": null,
   "metadata": {},
   "outputs": [],
   "source": [
    "ocr_data_path = 'data/ocr_data/'\n",
    "input_path = 'data/processed/'\n",
    "\n",
    "print(tesserocr.tesseract_version())  # print tesseract-ocr version\n",
    "print(tesserocr.get_languages(ocr_data_path))  # prints tessdata path and list of available languages"
   ]
  },
  {
   "cell_type": "code",
   "execution_count": null,
   "metadata": {},
   "outputs": [],
   "source": [
    "input_images_name = sorted(os.listdir(input_path))\n",
    "print(input_images_name)"
   ]
  },
  {
   "cell_type": "code",
   "execution_count": null,
   "metadata": {},
   "outputs": [],
   "source": [
    "with tesserocr.PyTessBaseAPI(path=ocr_data_path) as api:\n",
    "    for img_name in input_images_name[:1]:\n",
    "        api.SetImageFile(input_path + img_name)\n",
    "        print(api.GetUTF8Text())"
   ]
  },
  {
   "cell_type": "code",
   "execution_count": null,
   "metadata": {},
   "outputs": [],
   "source": [
    "with tesserocr.PyTessBaseAPI(path=ocr_data_path) as api:\n",
    "    for img_name in input_images_name[:1]:\n",
    "        api.SetImageFile(input_path + img_name)\n",
    "        boxes = api.GetComponentImages(tesserocr.RIL.TEXTLINE, True)\n",
    "        print('Found {} textline image components.'.format(len(boxes)))\n",
    "        for i, (im, box, _, _) in enumerate(boxes):\n",
    "            # im is a PIL image object\n",
    "            # box is a dict with x, y, w and h keys\n",
    "            api.SetRectangle(box['x'], box['y'], box['w'], box['h'])\n",
    "            ocrResult = api.GetUTF8Text()\n",
    "            conf = api.MeanTextConf()\n",
    "            print(u\"Box[{0}]: x={x}, y={y}, w={w}, h={h}, \"\n",
    "                \"confidence: {1}, text: {2}\".format(i, conf, ocrResult, **box))"
   ]
  },
  {
   "cell_type": "code",
   "execution_count": null,
   "metadata": {},
   "outputs": [],
   "source": [
    "with tesserocr.PyTessBaseAPI(psm=tesserocr.PSM.AUTO_OSD) as api:\n",
    "    for img_name in input_images_name[:1]:\n",
    "        api.SetImageFile(input_path + img_name)\n",
    "        api.Recognize()\n",
    "        it = api.AnalyseLayout()\n",
    "        orientation, direction, order, deskew_angle = it.Orientation()\n",
    "        print(\"Orientation: {:d}\".format(orientation))\n",
    "        print(\"WritingDirection: {:d}\".format(direction))\n",
    "        print(\"TextlineOrder: {:d}\".format(order))\n",
    "        print(\"Deskew angle: {:.4f}\".format(deskew_angle))"
   ]
  },
  {
   "cell_type": "code",
   "execution_count": null,
   "metadata": {},
   "outputs": [],
   "source": []
  }
 ],
 "metadata": {
  "kernelspec": {
   "display_name": "Python 3.8.3rc1 64-bit",
   "language": "python",
   "name": "python3"
  },
  "language_info": {
   "codemirror_mode": {
    "name": "ipython",
    "version": 3
   },
   "file_extension": ".py",
   "mimetype": "text/x-python",
   "name": "python",
   "nbconvert_exporter": "python",
   "pygments_lexer": "ipython3",
   "version": "3.8.3"
  },
  "orig_nbformat": 4,
  "vscode": {
   "interpreter": {
    "hash": "a75eb300e5d48d67d456b14970c8e9ad3655397f515a418f26d4cf6f1d1265ab"
   }
  }
 },
 "nbformat": 4,
 "nbformat_minor": 2
}
